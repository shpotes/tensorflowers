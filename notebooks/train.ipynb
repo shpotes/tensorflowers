{
  "nbformat": 4,
  "nbformat_minor": 0,
  "metadata": {
    "orig_nbformat": 4,
    "language_info": {
      "name": "python",
      "version": "3.9.5",
      "mimetype": "text/x-python",
      "codemirror_mode": {
        "name": "ipython",
        "version": 3
      },
      "pygments_lexer": "ipython3",
      "nbconvert_exporter": "python",
      "file_extension": ".py"
    },
    "kernelspec": {
      "name": "python3",
      "display_name": "Python 3.9.5 64-bit ('.venv': venv)"
    },
    "interpreter": {
      "hash": "6d6e96ca1182382ab0026ec062598bc305277a286c56165607e6b547a4232baf"
    },
    "colab": {
      "name": "train.ipynb",
      "provenance": [],
      "include_colab_link": true
    },
    "accelerator": "GPU"
  },
  "cells": [
    {
      "cell_type": "markdown",
      "metadata": {
        "id": "view-in-github",
        "colab_type": "text"
      },
      "source": [
        "<a href=\"https://colab.research.google.com/github/shpotes/tensorflowers/blob/resnet-baseline/notebooks/train.ipynb\" target=\"_parent\"><img src=\"https://colab.research.google.com/assets/colab-badge.svg\" alt=\"Open In Colab\"/></a>"
      ]
    },
    {
      "cell_type": "code",
      "metadata": {
        "id": "po2Lj-YnI1Ca"
      },
      "source": [
        "%cd /content/\n",
        "!git clone https://github.com/shpotes/tensorflowers.git\n",
        "%cd tensorflowers\n",
        "!pip install -q -r requirements.txt"
      ],
      "execution_count": null,
      "outputs": []
    },
    {
      "cell_type": "code",
      "metadata": {
        "id": "J-G8kZqQGHNC",
        "outputId": "f9111899-c6eb-4810-f1e4-43dba63ffd62"
      },
      "source": [
        "import torch.nn as nn\n",
        "from torchvision import models\n",
        "from torchvision import transforms\n",
        "import pytorch_lightning as pl\n",
        "from pytorch_lightning.loggers import WandbLogger\n",
        "\n",
        "from src.dataset import TFColDataModule\n",
        "from src.models.pl_module import HydraModule"
      ],
      "execution_count": null,
      "outputs": [
        {
          "output_type": "stream",
          "name": "stderr",
          "text": [
            "2021-11-14 15:14:34.581200: W tensorflow/stream_executor/platform/default/dso_loader.cc:64] Could not load dynamic library 'libcudart.so.11.0'; dlerror: libcudart.so.11.0: cannot open shared object file: No such file or directory\n",
            "2021-11-14 15:14:34.581216: I tensorflow/stream_executor/cuda/cudart_stub.cc:29] Ignore above cudart dlerror if you do not have a GPU set up on your machine.\n"
          ]
        }
      ]
    },
    {
      "cell_type": "code",
      "metadata": {
        "id": "xVITzUUWGHNI"
      },
      "source": [
        "dm = TFColDataModule(\n",
        "    image_transforms=transforms.Compose([\n",
        "        transforms.Resize(224),\n",
        "        transforms.ToTensor(),\n",
        "        transforms.Normalize(\n",
        "            mean=[0.485, 0.456, 0.406],\n",
        "            std=[0.229, 0.224, 0.225]\n",
        "        )\n",
        "    ])\n",
        ")"
      ],
      "execution_count": null,
      "outputs": []
    },
    {
      "cell_type": "code",
      "metadata": {
        "id": "6fl0ezNmGHNJ"
      },
      "source": [
        "base_backbone = models.resnet18(pretrained=True)\n",
        "backbone = nn.Sequential(*list(base_backbone.children())[:-1])\n",
        "model = HydraModule(\n",
        "    backbone,\n",
        "    lr=3e-4,\n",
        ")"
      ],
      "execution_count": null,
      "outputs": []
    },
    {
      "cell_type": "code",
      "metadata": {
        "id": "r2R_aC2LMou2"
      },
      "source": [
        "!wandb --login"
      ],
      "execution_count": null,
      "outputs": []
    },
    {
      "cell_type": "code",
      "metadata": {
        "id": "cv3knT0LGHNK",
        "outputId": "1479da50-15b7-4743-9d03-fbd1557cf517"
      },
      "source": [
        "logger = WandbLogger(\n",
        "    project=\"challenge\", \n",
        "    name=\"baseline\",\n",
        "    entity=\"tensorflowers\",\n",
        ")\n",
        "trainer = pl.Trainer(\n",
        "    max_epochs=10,\n",
        "    gpus=1,\n",
        "    logger=logger    \n",
        ")"
      ],
      "execution_count": null,
      "outputs": [
        {
          "output_type": "stream",
          "name": "stderr",
          "text": [
            "GPU available: True, used: True\n",
            "TPU available: False, using: 0 TPU cores\n",
            "IPU available: False, using: 0 IPUs\n"
          ]
        }
      ]
    },
    {
      "cell_type": "code",
      "metadata": {
        "id": "8BB10n0QGHNK"
      },
      "source": [
        "trainer.fit(model, dm)"
      ],
      "execution_count": null,
      "outputs": []
    },
    {
      "cell_type": "code",
      "metadata": {
        "id": "I948-rVJGHNL"
      },
      "source": [
        ""
      ],
      "execution_count": null,
      "outputs": []
    }
  ]
}