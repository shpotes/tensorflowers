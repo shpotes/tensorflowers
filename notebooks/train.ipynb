{
  "nbformat": 4,
  "nbformat_minor": 0,
  "metadata": {
    "orig_nbformat": 4,
    "language_info": {
      "name": "python",
      "version": "3.9.5",
      "mimetype": "text/x-python",
      "codemirror_mode": {
        "name": "ipython",
        "version": 3
      },
      "pygments_lexer": "ipython3",
      "nbconvert_exporter": "python",
      "file_extension": ".py"
    },
    "kernelspec": {
      "name": "python3",
      "display_name": "Python 3.9.5 64-bit ('.venv': venv)"
    },
    "interpreter": {
      "hash": "6d6e96ca1182382ab0026ec062598bc305277a286c56165607e6b547a4232baf"
    },
    "colab": {
      "name": "train.ipynb",
      "provenance": [],
      "include_colab_link": true
    },
    "accelerator": "GPU"
  },
  "cells": [
    {
      "cell_type": "markdown",
      "metadata": {
        "id": "view-in-github",
        "colab_type": "text"
      },
      "source": [
        "<a href=\"https://colab.research.google.com/github/shpotes/tensorflowers/blob/inference/notebooks/train.ipynb\" target=\"_parent\"><img src=\"https://colab.research.google.com/assets/colab-badge.svg\" alt=\"Open In Colab\"/></a>"
      ]
    },
    {
      "cell_type": "code",
      "metadata": {
        "id": "po2Lj-YnI1Ca",
        "colab": {
          "base_uri": "https://localhost:8080/"
        },
        "outputId": "137b9f3e-d8f4-48b8-91bb-294aed3393aa"
      },
      "source": [
        "%cd /content/\n",
        "!rm -rf tensorflowers\n",
        "!git clone -b entregable https://github.com/shpotes/tensorflowers.git\n",
        "%cd tensorflowers\n",
        "!pip install -qq -r requirements.txt"
      ],
      "execution_count": 1,
      "outputs": [
        {
          "output_type": "stream",
          "name": "stdout",
          "text": [
            "/content\n",
            "Cloning into 'tensorflowers'...\n",
            "remote: Enumerating objects: 454, done.\u001b[K\n",
            "remote: Counting objects: 100% (454/454), done.\u001b[K\n",
            "remote: Compressing objects: 100% (309/309), done.\u001b[K\n",
            "remote: Total 454 (delta 229), reused 320 (delta 121), pack-reused 0\u001b[K\n",
            "Receiving objects: 100% (454/454), 126.04 MiB | 30.30 MiB/s, done.\n",
            "Resolving deltas: 100% (229/229), done.\n",
            "/content/tensorflowers\n"
          ]
        }
      ]
    },
    {
      "cell_type": "code",
      "source": [
        "%cd /content/tensorflowers/\n",
        "!git pull"
      ],
      "metadata": {
        "colab": {
          "base_uri": "https://localhost:8080/"
        },
        "id": "FPVeg2Swq9bm",
        "outputId": "6bba4742-e306-4d0b-ce2b-5299eb14be01"
      },
      "execution_count": 2,
      "outputs": [
        {
          "output_type": "stream",
          "name": "stdout",
          "text": [
            "/content/tensorflowers\n",
            "Already up to date.\n"
          ]
        }
      ]
    },
    {
      "cell_type": "code",
      "metadata": {
        "id": "J-G8kZqQGHNC",
        "colab": {
          "base_uri": "https://localhost:8080/"
        },
        "outputId": "feed7d37-2876-40d7-c9ee-fe4d6887038b"
      },
      "source": [
        "from functools import partial\n",
        "\n",
        "import timm\n",
        "from timm.data.constants import IMAGENET_DEFAULT_MEAN, IMAGENET_DEFAULT_STD\n",
        "import numpy as np\n",
        "import torch\n",
        "import torch.nn as nn\n",
        "from torchvision import models\n",
        "from torchvision import transforms as T\n",
        "import pytorch_lightning as pl\n",
        "from pytorch_lightning.loggers import WandbLogger\n",
        "from pytorch_lightning.callbacks import ModelCheckpoint\n",
        "\n",
        "from src.data import TFColDataModule, create_train_transformations\n",
        "from src.model import HydraModule\n",
        "from src.utils.training_utils import turn_off_bn, load_backbone"
      ],
      "execution_count": 3,
      "outputs": [
        {
          "output_type": "stream",
          "name": "stderr",
          "text": [
            "Using custom data configuration default\n"
          ]
        }
      ]
    },
    {
      "cell_type": "code",
      "metadata": {
        "id": "xVITzUUWGHNI"
      },
      "source": [
        "dm = TFColDataModule(\n",
        "    image_train_transforms=create_train_transformations(with_rand_augmentation=True),\n",
        "    image_eval_transforms=T.Compose([\n",
        "      T.Resize((224, 224)),\n",
        "      T.ToTensor(),\n",
        "      T.Normalize(IMAGENET_DEFAULT_MEAN, IMAGENET_DEFAULT_STD)\n",
        "    ]),\n",
        "    batch_size=64,\n",
        ")"
      ],
      "execution_count": 4,
      "outputs": []
    },
    {
      "cell_type": "code",
      "metadata": {
        "id": "6fl0ezNmGHNJ"
      },
      "source": [
        "backbone = load_backbone(\n",
        "    model_name=\"resnet50d\",\n",
        "    checkpoint=\"https://github.com/rwightman/pytorch-image-models/releases/download/v0.1-rsb-weights/resnet50d_a1_0-e20cff14.pth\",\n",
        ")\n",
        "turn_off_bn(backbone)\n",
        "\n",
        "model = HydraModule(\n",
        "    backbone,\n",
        "    lr=3e-4,\n",
        "    clf_loss=\"asl\",\n",
        ")"
      ],
      "execution_count": 5,
      "outputs": []
    },
    {
      "cell_type": "code",
      "source": [
        "from google.colab import drive\n",
        "drive.mount('/content/drive')\n",
        "\n",
        "checkpoint_callback = ModelCheckpoint(\n",
        "    monitor=\"val_cross_entropy_loss\",\n",
        "    dirpath=\"/content/drive/MyDrive/BORRAR\",\n",
        "    filename=\"resnet50d-asl-randaug-{epoch:02d}-{val_cross_entropy_loss:.2f}\",\n",
        "    save_top_k=3,\n",
        "    mode=\"min\",\n",
        ")"
      ],
      "metadata": {
        "colab": {
          "base_uri": "https://localhost:8080/"
        },
        "id": "k2BJvzhg74Xs",
        "outputId": "73606408-3633-46e6-b908-367492206c89"
      },
      "execution_count": 6,
      "outputs": [
        {
          "output_type": "stream",
          "name": "stdout",
          "text": [
            "Mounted at /content/drive\n"
          ]
        }
      ]
    },
    {
      "cell_type": "code",
      "metadata": {
        "id": "r2R_aC2LMou2",
        "colab": {
          "base_uri": "https://localhost:8080/"
        },
        "outputId": "c7261932-2448-435c-a62f-21e11ee5e5b0"
      },
      "source": [
        "!wandb login"
      ],
      "execution_count": 7,
      "outputs": [
        {
          "output_type": "stream",
          "name": "stdout",
          "text": [
            "\u001b[34m\u001b[1mwandb\u001b[0m: Currently logged in as: \u001b[33mshpotes\u001b[0m (use `wandb login --relogin` to force relogin)\n"
          ]
        }
      ]
    },
    {
      "cell_type": "code",
      "metadata": {
        "id": "cv3knT0LGHNK",
        "colab": {
          "base_uri": "https://localhost:8080/"
        },
        "outputId": "fbc09976-90aa-4cd5-cc1a-d9cbc56334d4"
      },
      "source": [
        "logger = WandbLogger(\n",
        "    project=\"challenge\", \n",
        "    name=\"resnet50d-asl-randaug\",\n",
        "    entity=\"tensorflowers\",\n",
        ")\n",
        "trainer = pl.Trainer(\n",
        "    gpus=1,\n",
        "    logger=logger    \n",
        ")"
      ],
      "execution_count": 8,
      "outputs": [
        {
          "output_type": "stream",
          "name": "stderr",
          "text": [
            "GPU available: True, used: True\n",
            "TPU available: False, using: 0 TPU cores\n",
            "IPU available: False, using: 0 IPUs\n"
          ]
        }
      ]
    },
    {
      "cell_type": "code",
      "metadata": {
        "id": "8BB10n0QGHNK"
      },
      "source": [
        "trainer.fit(model, dm)"
      ],
      "execution_count": null,
      "outputs": []
    },
    {
      "cell_type": "code",
      "source": [
        ""
      ],
      "metadata": {
        "id": "sVsx5qYesOAk"
      },
      "execution_count": null,
      "outputs": []
    }
  ]
}