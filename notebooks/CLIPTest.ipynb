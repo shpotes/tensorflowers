{
  "nbformat": 4,
  "nbformat_minor": 0,
  "metadata": {
    "colab": {
      "name": "CLIPTest.ipynb",
      "provenance": [],
      "collapsed_sections": [],
      "include_colab_link": true
    },
    "kernelspec": {
      "name": "python3",
      "display_name": "Python 3"
    },
    "language_info": {
      "name": "python"
    },
    "accelerator": "GPU"
  },
  "cells": [
    {
      "cell_type": "markdown",
      "metadata": {
        "id": "view-in-github",
        "colab_type": "text"
      },
      "source": [
        "<a href=\"https://colab.research.google.com/github/shpotes/tensorflowers/blob/clip/notebooks/CLIPTest.ipynb\" target=\"_parent\"><img src=\"https://colab.research.google.com/assets/colab-badge.svg\" alt=\"Open In Colab\"/></a>"
      ]
    },
    {
      "cell_type": "code",
      "metadata": {
        "id": "JthC9qBtWyRq"
      },
      "source": [
        "import sys\n",
        "\n",
        "if 'google.colab' in sys.modules:\n",
        "  !pip install transformers datasets -qq"
      ],
      "execution_count": 1,
      "outputs": []
    },
    {
      "cell_type": "code",
      "metadata": {
        "id": "e0GaXW9-W6R_"
      },
      "source": [
        "from itertools import chain\n",
        "from collections import Counter\n",
        "from datasets import load_dataset\n",
        "from transformers import CLIPProcessor, CLIPModel\n",
        "from PIL import Image\n",
        "import torch\n",
        "from tqdm import tqdm"
      ],
      "execution_count": 2,
      "outputs": []
    },
    {
      "cell_type": "code",
      "metadata": {
        "colab": {
          "base_uri": "https://localhost:8080/"
        },
        "id": "yAyBd3w2XLKI",
        "outputId": "85b629b2-b49e-4805-df4a-204db2684ac8"
      },
      "source": [
        "model = CLIPModel.from_pretrained(\"openai/clip-vit-base-patch32\")\n",
        "processor = CLIPProcessor.from_pretrained(\"openai/clip-vit-base-patch32\")"
      ],
      "execution_count": 3,
      "outputs": [
        {
          "output_type": "stream",
          "name": "stderr",
          "text": [
            "ftfy or spacy is not installed using BERT BasicTokenizer instead of ftfy.\n"
          ]
        }
      ]
    },
    {
      "cell_type": "code",
      "metadata": {
        "colab": {
          "base_uri": "https://localhost:8080/"
        },
        "id": "-Q5gmKcOYLmJ",
        "outputId": "3e0caf7f-9416-4c4f-ac76-ea9535579bd7"
      },
      "source": [
        "ds = load_dataset(\"shpotes/tfcol\", split=\"validation\")"
      ],
      "execution_count": 4,
      "outputs": [
        {
          "output_type": "stream",
          "name": "stderr",
          "text": [
            "Using custom data configuration default\n",
            "Reusing dataset tf_col (/root/.cache/huggingface/datasets/shpotes___tf_col)/default/1.0.0/0c616218d5e0a194334e0ed0adacd86ab9b315ec6b03a8b388dece024753def2)\n"
          ]
        }
      ]
    },
    {
      "cell_type": "code",
      "metadata": {
        "id": "kl6kYcfpZhAt"
      },
      "source": [
        "def int2str(x):\n",
        "  _int2str = ds.features[\"labels\"].feature.int2str\n",
        "  if isinstance(x, int):\n",
        "    return _int2str(x)\n",
        "  elif hasattr(x, '__iter__'):\n",
        "    return [_int2str(i) for i in x]\n",
        "  raise TypeError\n",
        "\n",
        "def batch(iterable, n=1):\n",
        "  l = len(iterable)\n",
        "  num = range(l)\n",
        "  for ndx in range(0, l, n):\n",
        "    yield num[ndx:min(ndx + n, l)], iterable[ndx:min(ndx + n, l)]"
      ],
      "execution_count": 5,
      "outputs": []
    },
    {
      "cell_type": "code",
      "metadata": {
        "id": "TzTSVZHTZMWo"
      },
      "source": [
        "images = [Image.open(img).convert(\"RGB\") for img in ds[\"image\"]]\n",
        "\n",
        "prompt_seeds = [\n",
        "    \"clothing store\",\n",
        "    \"liquor store\",\n",
        "    \"barber shop\",\n",
        "    \"electronic store\",\n",
        "    \"coffee store\",\n",
        "    \"furniture store\",\n",
        "    \"fast food cart\", # puesto movil \n",
        "    \"ERROR OSJDFADOIAJSOIDJAMS\", # electrodomesticos\n",
        "    \"butcher shop\",\n",
        "    \"bar\",\n",
        "    \"pet shop\",\n",
        "    \"store\",\n",
        "    \"pharmacy\",\n",
        "    \"sport store\",\n",
        "    \"car shop\",\n",
        "    \"shoe shop\",\n",
        "    \"supermarket\",\n",
        "    \"hotel\"\n",
        "]\n",
        "\n",
        "prompts = [f\"an image of a {seed}\" for seed in prompt_seeds]\n",
        "\n",
        "model = model.cuda()"
      ],
      "execution_count": 6,
      "outputs": []
    },
    {
      "cell_type": "code",
      "metadata": {
        "id": "Y_hE61hplEXh"
      },
      "source": [
        "score = [0 for _ in range(len(prompts))]"
      ],
      "execution_count": 7,
      "outputs": []
    },
    {
      "cell_type": "code",
      "metadata": {
        "colab": {
          "base_uri": "https://localhost:8080/"
        },
        "id": "wdRg7_jmcv5Z",
        "outputId": "632d3318-5205-4b1b-dbaf-b243a4a2e08a"
      },
      "source": [
        "for image_idx, image_batch in tqdm(batch(images, 8)):\n",
        "  input = processor(\n",
        "      text=prompts, \n",
        "      images=image_batch,\n",
        "      return_tensors=\"pt\", \n",
        "      padding=True,\n",
        "  )\n",
        "  \n",
        "  input = {k: v.cuda() for k, v in input.items()}\n",
        "\n",
        "  outputs = model(**input)\n",
        "  logits_per_image = outputs.logits_per_image\n",
        "  probs = logits_per_image.softmax(dim=1)\n",
        "\n",
        "  for img_idx, prob_idx in zip(image_idx, range(8)):\n",
        "    topk = set(torch.topk(probs[prob_idx], 5).indices.cpu().tolist())\n",
        "    labels = set(ds[\"labels\"][img_idx])\n",
        "\n",
        "\n",
        "    for i in (topk & labels):\n",
        "      score[i] += 1"
      ],
      "execution_count": 8,
      "outputs": [
        {
          "output_type": "stream",
          "name": "stderr",
          "text": [
            "83it [00:25,  3.20it/s]\n"
          ]
        }
      ]
    },
    {
      "cell_type": "code",
      "metadata": {
        "id": "bEyVLLLWmFyJ"
      },
      "source": [
        "final_score = [local / len(ds) for local in score]"
      ],
      "execution_count": 9,
      "outputs": []
    },
    {
      "cell_type": "code",
      "metadata": {
        "id": "YSLgSFTH4kDW"
      },
      "source": [
        "class_names = ds.features[\"labels\"].feature.names"
      ],
      "execution_count": 10,
      "outputs": []
    },
    {
      "cell_type": "code",
      "metadata": {
        "id": "ZbuXIo1doB8T",
        "colab": {
          "base_uri": "https://localhost:8080/"
        },
        "outputId": "84d4d596-81c6-47ba-e65f-866b04ff1a69"
      },
      "source": [
        "dict(zip(class_names, final_score))"
      ],
      "execution_count": 11,
      "outputs": [
        {
          "output_type": "execute_result",
          "data": {
            "text/plain": [
              "{'animales': 0.00303951367781155,\n",
              " 'bar': 0.02127659574468085,\n",
              " 'belleza/barbería/peluquería': 0.02127659574468085,\n",
              " 'café/restaurante': 0.041033434650455926,\n",
              " 'carnicería/fruver': 0.019756838905775075,\n",
              " 'deporte': 0.0,\n",
              " 'electrodomésticos': 0.0,\n",
              " 'electrónica/cómputo': 0.0243161094224924,\n",
              " 'farmacia': 0.004559270516717325,\n",
              " 'ferretería': 0.0,\n",
              " 'licorera': 0.00911854103343465,\n",
              " 'muebles/tapicería': 0.0060790273556231,\n",
              " 'parqueadero': 0.0060790273556231,\n",
              " 'puesto móvil/toldito': 0.0182370820668693,\n",
              " 'ropa': 0.057750759878419454,\n",
              " 'talleres carros/motos': 0.0121580547112462,\n",
              " 'tienda': 0.0060790273556231,\n",
              " 'zapatería': 0.0}"
            ]
          },
          "metadata": {},
          "execution_count": 11
        }
      ]
    },
    {
      "cell_type": "code",
      "metadata": {
        "id": "yJqlLSwbnnRz"
      },
      "source": [
        "boots = [0 for _ in range(100)]\n",
        "\n",
        "for k in range(100):\n",
        "  random_baseline = [0 for _ in range(len(prompts))]\n",
        "\n",
        "  for labels in ds[\"labels\"]:\n",
        "    topk = set(torch.topk(torch.rand(18), 5).indices.tolist())\n",
        "    labels = set(labels)\n",
        "\n",
        "    for i in (topk & labels):\n",
        "        random_baseline[i] += 1\n",
        "\n",
        "  random_baseline = [local / len(ds) for local in random_baseline]\n",
        "  boots[k] = sum([x <= y for x, y in zip(final_score, random_baseline)]) / len(prompts)"
      ],
      "execution_count": 12,
      "outputs": []
    },
    {
      "cell_type": "code",
      "metadata": {
        "id": "xxabb4VXoY4v",
        "colab": {
          "base_uri": "https://localhost:8080/"
        },
        "outputId": "08a3349c-aa6f-4256-b783-614fbb154a44"
      },
      "source": [
        "dict(zip(class_names,boots))"
      ],
      "execution_count": 13,
      "outputs": [
        {
          "output_type": "execute_result",
          "data": {
            "text/plain": [
              "{'animales': 0.6666666666666666,\n",
              " 'bar': 0.6666666666666666,\n",
              " 'belleza/barbería/peluquería': 0.6666666666666666,\n",
              " 'café/restaurante': 0.6666666666666666,\n",
              " 'carnicería/fruver': 0.5555555555555556,\n",
              " 'deporte': 0.6111111111111112,\n",
              " 'electrodomésticos': 0.6666666666666666,\n",
              " 'electrónica/cómputo': 0.6666666666666666,\n",
              " 'farmacia': 0.6111111111111112,\n",
              " 'ferretería': 0.6666666666666666,\n",
              " 'hotel': 0.6111111111111112,\n",
              " 'licorera': 0.6111111111111112,\n",
              " 'muebles/tapicería': 0.6666666666666666,\n",
              " 'parqueadero': 0.6666666666666666,\n",
              " 'puesto móvil/toldito': 0.5555555555555556,\n",
              " 'ropa': 0.6111111111111112,\n",
              " 'supermercado': 0.6111111111111112,\n",
              " 'talleres carros/motos': 0.6111111111111112,\n",
              " 'tienda': 0.6111111111111112,\n",
              " 'zapatería': 0.6666666666666666}"
            ]
          },
          "metadata": {},
          "execution_count": 13
        }
      ]
    },
    {
      "cell_type": "code",
      "metadata": {
        "id": "sKnULt9U5eLD",
        "outputId": "0a65a8f2-e2fe-4014-9180-ab6112b0a839",
        "colab": {
          "base_uri": "https://localhost:8080/"
        }
      },
      "source": [
        "{int2str(k): v for k, v in Counter(chain.from_iterable(ds[\"labels\"])).items()}"
      ],
      "execution_count": 14,
      "outputs": [
        {
          "output_type": "execute_result",
          "data": {
            "text/plain": [
              "{'animales': 7,\n",
              " 'bar': 15,\n",
              " 'belleza/barbería/peluquería': 31,\n",
              " 'café/restaurante': 165,\n",
              " 'carnicería/fruver': 14,\n",
              " 'deporte': 3,\n",
              " 'electrodomésticos': 19,\n",
              " 'electrónica/cómputo': 22,\n",
              " 'farmacia': 27,\n",
              " 'ferretería': 24,\n",
              " 'hotel': 16,\n",
              " 'licorera': 6,\n",
              " 'muebles/tapicería': 26,\n",
              " 'parqueadero': 64,\n",
              " 'puesto móvil/toldito': 55,\n",
              " 'ropa': 43,\n",
              " 'supermercado': 18,\n",
              " 'talleres carros/motos': 60,\n",
              " 'tienda': 71,\n",
              " 'zapatería': 3}"
            ]
          },
          "metadata": {},
          "execution_count": 14
        }
      ]
    },
    {
      "cell_type": "code",
      "metadata": {
        "id": "isowQCEu5t7l"
      },
      "source": [
        ""
      ],
      "execution_count": 14,
      "outputs": []
    }
  ]
}