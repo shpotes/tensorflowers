{
 "cells": [
  {
   "cell_type": "code",
   "execution_count": 9,
   "metadata": {},
   "outputs": [],
   "source": [
    "import src.dataset.tensorflow as dataset\n",
    "import matplotlib.pyplot as plt\n",
    "import pandas as pd"
   ]
  },
  {
   "cell_type": "code",
   "execution_count": 6,
   "metadata": {},
   "outputs": [
    {
     "name": "stderr",
     "output_type": "stream",
     "text": [
      "Using custom data configuration default\n",
      "Reusing dataset tf_col (C:\\Users\\Juanj\\.cache\\huggingface\\datasets\\tf_col\\default\\1.0.0\\0c616218d5e0a194334e0ed0adacd86ab9b315ec6b03a8b388dece024753def2)\n",
      "100%|██████████| 2/2 [00:00<00:00, 222.31it/s]\n",
      "d:\\tensorflowers\\tensorflower\\lib\\site-packages\\datasets\\formatting\\formatting.py:167: VisibleDeprecationWarning: Creating an ndarray from ragged nested sequences (which is a list-or-tuple of lists-or-tuples-or ndarrays with different lengths or shapes) is deprecated. If you meant to do this, you must specify 'dtype=object' when creating the ndarray\n",
      "  return np.array(array, copy=False, **self.np_array_kwargs)\n"
     ]
    }
   ],
   "source": [
    "train_ds, _ = dataset.get_raw_dataset(False)\n"
   ]
  },
  {
   "cell_type": "code",
   "execution_count": 12,
   "metadata": {},
   "outputs": [
    {
     "data": {
      "text/plain": [
       "<tf.Tensor: shape=(), dtype=float32, numpy=6.250013>"
      ]
     },
     "execution_count": 12,
     "metadata": {},
     "output_type": "execute_result"
    }
   ],
   "source": [
    "it = iter(train_ds)\n",
    "next(it)[1]['lat']"
   ]
  },
  {
   "cell_type": "code",
   "execution_count": 13,
   "metadata": {},
   "outputs": [],
   "source": [
    "lats = []\n",
    "longs = []\n",
    "labels = []\n",
    "for ex in train_ds.as_numpy_iterator():\n",
    "    lats.append(ex[1]['lat'])\n",
    "    longs.append(ex[1]['lon'])\n",
    "    labels.append(ex[2])"
   ]
  },
  {
   "cell_type": "code",
   "execution_count": 20,
   "metadata": {},
   "outputs": [
    {
     "data": {
      "text/html": [
       "<div>\n",
       "<style scoped>\n",
       "    .dataframe tbody tr th:only-of-type {\n",
       "        vertical-align: middle;\n",
       "    }\n",
       "\n",
       "    .dataframe tbody tr th {\n",
       "        vertical-align: top;\n",
       "    }\n",
       "\n",
       "    .dataframe thead th {\n",
       "        text-align: right;\n",
       "    }\n",
       "</style>\n",
       "<table border=\"1\" class=\"dataframe\">\n",
       "  <thead>\n",
       "    <tr style=\"text-align: right;\">\n",
       "      <th></th>\n",
       "      <th>lat</th>\n",
       "      <th>lon</th>\n",
       "      <th>label</th>\n",
       "    </tr>\n",
       "  </thead>\n",
       "  <tbody>\n",
       "    <tr>\n",
       "      <th>0</th>\n",
       "      <td>6.250013</td>\n",
       "      <td>-75.595688</td>\n",
       "      <td>17</td>\n",
       "    </tr>\n",
       "    <tr>\n",
       "      <th>1</th>\n",
       "      <td>4.597080</td>\n",
       "      <td>-74.079765</td>\n",
       "      <td>9</td>\n",
       "    </tr>\n",
       "    <tr>\n",
       "      <th>1</th>\n",
       "      <td>4.597080</td>\n",
       "      <td>-74.079765</td>\n",
       "      <td>0</td>\n",
       "    </tr>\n",
       "    <tr>\n",
       "      <th>2</th>\n",
       "      <td>7.116924</td>\n",
       "      <td>-73.128120</td>\n",
       "      <td>5</td>\n",
       "    </tr>\n",
       "    <tr>\n",
       "      <th>3</th>\n",
       "      <td>7.129667</td>\n",
       "      <td>-73.112076</td>\n",
       "      <td>5</td>\n",
       "    </tr>\n",
       "  </tbody>\n",
       "</table>\n",
       "</div>"
      ],
      "text/plain": [
       "        lat        lon label\n",
       "0  6.250013 -75.595688    17\n",
       "1  4.597080 -74.079765     9\n",
       "1  4.597080 -74.079765     0\n",
       "2  7.116924 -73.128120     5\n",
       "3  7.129667 -73.112076     5"
      ]
     },
     "execution_count": 20,
     "metadata": {},
     "output_type": "execute_result"
    }
   ],
   "source": [
    "spatial_df = pd.DataFrame({'lat':lats, 'lon':longs, 'label':labels})\n",
    "amount_of_labels = spatial_df['label'].apply(lambda x: len(x))\n",
    "spatial_df = spatial_df.explode('label')\n",
    "spatial_df.head()"
   ]
  },
  {
   "cell_type": "code",
   "execution_count": 16,
   "metadata": {},
   "outputs": [
    {
     "data": {
      "text/html": [
       "<div>\n",
       "<style scoped>\n",
       "    .dataframe tbody tr th:only-of-type {\n",
       "        vertical-align: middle;\n",
       "    }\n",
       "\n",
       "    .dataframe tbody tr th {\n",
       "        vertical-align: top;\n",
       "    }\n",
       "\n",
       "    .dataframe thead th {\n",
       "        text-align: right;\n",
       "    }\n",
       "</style>\n",
       "<table border=\"1\" class=\"dataframe\">\n",
       "  <thead>\n",
       "    <tr style=\"text-align: right;\">\n",
       "      <th></th>\n",
       "      <th>lat</th>\n",
       "      <th>lon</th>\n",
       "      <th>label</th>\n",
       "    </tr>\n",
       "  </thead>\n",
       "  <tbody>\n",
       "    <tr>\n",
       "      <th>0</th>\n",
       "      <td>6.250013</td>\n",
       "      <td>-75.595688</td>\n",
       "      <td>17</td>\n",
       "    </tr>\n",
       "    <tr>\n",
       "      <th>1</th>\n",
       "      <td>4.597080</td>\n",
       "      <td>-74.079765</td>\n",
       "      <td>9</td>\n",
       "    </tr>\n",
       "    <tr>\n",
       "      <th>1</th>\n",
       "      <td>4.597080</td>\n",
       "      <td>-74.079765</td>\n",
       "      <td>0</td>\n",
       "    </tr>\n",
       "    <tr>\n",
       "      <th>2</th>\n",
       "      <td>7.116924</td>\n",
       "      <td>-73.128120</td>\n",
       "      <td>5</td>\n",
       "    </tr>\n",
       "    <tr>\n",
       "      <th>3</th>\n",
       "      <td>7.129667</td>\n",
       "      <td>-73.112076</td>\n",
       "      <td>5</td>\n",
       "    </tr>\n",
       "    <tr>\n",
       "      <th>4</th>\n",
       "      <td>4.598717</td>\n",
       "      <td>-74.078781</td>\n",
       "      <td>13</td>\n",
       "    </tr>\n",
       "    <tr>\n",
       "      <th>5</th>\n",
       "      <td>6.255044</td>\n",
       "      <td>-75.562042</td>\n",
       "      <td>5</td>\n",
       "    </tr>\n",
       "    <tr>\n",
       "      <th>6</th>\n",
       "      <td>4.681217</td>\n",
       "      <td>-74.049644</td>\n",
       "      <td>7</td>\n",
       "    </tr>\n",
       "    <tr>\n",
       "      <th>7</th>\n",
       "      <td>6.249551</td>\n",
       "      <td>-75.591042</td>\n",
       "      <td>16</td>\n",
       "    </tr>\n",
       "    <tr>\n",
       "      <th>8</th>\n",
       "      <td>6.260261</td>\n",
       "      <td>-75.564415</td>\n",
       "      <td>14</td>\n",
       "    </tr>\n",
       "  </tbody>\n",
       "</table>\n",
       "</div>"
      ],
      "text/plain": [
       "        lat        lon label\n",
       "0  6.250013 -75.595688    17\n",
       "1  4.597080 -74.079765     9\n",
       "1  4.597080 -74.079765     0\n",
       "2  7.116924 -73.128120     5\n",
       "3  7.129667 -73.112076     5\n",
       "4  4.598717 -74.078781    13\n",
       "5  6.255044 -75.562042     5\n",
       "6  4.681217 -74.049644     7\n",
       "7  6.249551 -75.591042    16\n",
       "8  6.260261 -75.564415    14"
      ]
     },
     "execution_count": 16,
     "metadata": {},
     "output_type": "execute_result"
    }
   ],
   "source": [
    "spatial_df.explode('label').head(10)"
   ]
  },
  {
   "cell_type": "code",
   "execution_count": 23,
   "metadata": {},
   "outputs": [
    {
     "data": {
      "text/plain": [
       "1    1906\n",
       "2      88\n",
       "3       5\n",
       "4       1\n",
       "Name: label, dtype: int64"
      ]
     },
     "execution_count": 23,
     "metadata": {},
     "output_type": "execute_result"
    }
   ],
   "source": [
    "amount_of_labels.value_counts()"
   ]
  },
  {
   "cell_type": "markdown",
   "metadata": {},
   "source": [
    "Casi todas las imágenes traen una sola etiqueta, 4.4% tienen dos, y <1% tienen 3 o más"
   ]
  },
  {
   "cell_type": "code",
   "execution_count": 27,
   "metadata": {},
   "outputs": [
    {
     "data": {
      "text/plain": [
       "licorera                       476\n",
       "farmacia                       210\n",
       "carnicería/fruver              206\n",
       "café/restaurante               191\n",
       "muebles/tapicería              150\n",
       "supermercado                   142\n",
       "tienda                          92\n",
       "puesto móvil/toldito            86\n",
       "ferretería                      79\n",
       "parqueadero                     78\n",
       "electrodomésticos               60\n",
       "belleza/barbería/peluquería     59\n",
       "animales                        56\n",
       "electrónica/cómputo             54\n",
       "ropa                            46\n",
       "deporte                         35\n",
       "bar                             28\n",
       "zapatería                       19\n",
       "talleres carros/motos           19\n",
       "hotel                           15\n",
       "Name: label_str, dtype: int64"
      ]
     },
     "execution_count": 27,
     "metadata": {},
     "output_type": "execute_result"
    }
   ],
   "source": [
    "label_dict = {0:\"supermercado\",\n",
    "        1:\"talleres carros/motos\",\n",
    "        2:\"parqueadero\",\n",
    "        3:\"tienda\",\n",
    "        4:\"carnicería/fruver\",\n",
    "        5:\"licorera\",\n",
    "        6:\"electrónica/cómputo\",\n",
    "        7:\"ferretería\",\n",
    "        8:\"muebles/tapicería\",\n",
    "        9:\"electrodomésticos\",\n",
    "        10:\"deporte\",\n",
    "        11:\"ropa\",\n",
    "        12:\"zapatería\",\n",
    "        13:\"farmacia\", \n",
    "        14:\"puesto móvil/toldito\",\n",
    "        15:\"hotel\",\n",
    "        16:\"café/restaurante\",\n",
    "        17:\"bar\", \n",
    "        18:\"belleza/barbería/peluquería\",\n",
    "        19:\"animales\"\n",
    "        }\n",
    "spatial_df['label_str']=spatial_df['label'].apply(lambda x: label_dict[x])\n",
    "spatial_df['label_str'].value_counts()"
   ]
  },
  {
   "cell_type": "markdown",
   "metadata": {},
   "source": [
    "Lo que más está presente son licoreras, que representan un ~24% del total de las etiquetas. Le siguen farmacias y carnicerías/fruvers, ambas con ~10%, y cafés/restaurantes, con 9.5%. Las etiquetas que menos hay son hoteles (0.75%), talleres y zapaterías (1%) y bares (1.5%). De la cantidad tan baja de bares y alta de licoreras, sospecho que hay un sobrelapamiento en ambas, que tiende a caer en licoreras"
   ]
  },
  {
   "cell_type": "code",
   "execution_count": 19,
   "metadata": {},
   "outputs": [
    {
     "data": {
      "text/plain": [
       "<AxesSubplot:xlabel='lat', ylabel='lon'>"
      ]
     },
     "execution_count": 19,
     "metadata": {},
     "output_type": "execute_result"
    },
    {
     "data": {
      "image/png": "[encoded data removed]",
      "text/plain": [
       "<Figure size 432x288 with 2 Axes>"
      ]
     },
     "metadata": {
      "needs_background": "light"
     },
     "output_type": "display_data"
    }
   ],
   "source": [
    "spatial_df.plot.scatter(x='lat', y='lon', c='label', colormap='viridis')"
   ]
  },
  {
   "cell_type": "markdown",
   "metadata": {},
   "source": [
    "Hay tres grupos dentro de las coordenadas, o sea que al final tenemos tres ciudades"
   ]
  },
  {
   "cell_type": "markdown",
   "metadata": {},
   "source": []
  }
 ],
 "metadata": {
  "interpreter": {
   "hash": "f414ab7d5497ec978e12c8870e7523b64ff4202432de6d983eb72dfef54c71a4"
  },
  "kernelspec": {
   "display_name": "Python 3.8.5 64-bit ('tensorflower': venv)",
   "name": "python3"
  },
  "language_info": {
   "codemirror_mode": {
    "name": "ipython",
    "version": 3
   },
   "file_extension": ".py",
   "mimetype": "text/x-python",
   "name": "python",
   "nbconvert_exporter": "python",
   "pygments_lexer": "ipython3",
   "version": "3.8.5"
  },
  "orig_nbformat": 4
 },
 "nbformat": 4,
 "nbformat_minor": 2
}
