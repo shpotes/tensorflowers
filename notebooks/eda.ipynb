{
 "cells": [
  {
   "cell_type": "code",
   "execution_count": 1,
   "source": [
    "%cd .."
   ],
   "outputs": [
    {
     "output_type": "stream",
     "name": "stdout",
     "text": [
      "/tmp/tensorflowers\n"
     ]
    }
   ],
   "metadata": {}
  },
  {
   "cell_type": "code",
   "execution_count": 2,
   "source": [
    "from datasets import load_dataset\n",
    "import matplotlib.pyplot as plt\n",
    "import pandas as pd"
   ],
   "outputs": [
    {
     "output_type": "stream",
     "name": "stderr",
     "text": [
      "2021-10-20 19:09:52.111503: W tensorflow/stream_executor/platform/default/dso_loader.cc:64] Could not load dynamic library 'libcudart.so.11.0'; dlerror: libcudart.so.11.0: cannot open shared object file: No such file or directory\n",
      "2021-10-20 19:09:52.111529: I tensorflow/stream_executor/cuda/cudart_stub.cc:29] Ignore above cudart dlerror if you do not have a GPU set up on your machine.\n"
     ]
    }
   ],
   "metadata": {}
  },
  {
   "cell_type": "code",
   "execution_count": 3,
   "source": [
    "dataset = load_dataset(\"shpotes/tfcol\")\n",
    "train_ds = dataset[\"train\"]"
   ],
   "outputs": [
    {
     "output_type": "stream",
     "name": "stderr",
     "text": [
      "Using custom data configuration default\n",
      "Reusing dataset tf_col (/home/shpotes/.cache/huggingface/datasets/tf_col/default/1.0.0/0c616218d5e0a194334e0ed0adacd86ab9b315ec6b03a8b388dece024753def2)\n",
      "100%|██████████| 2/2 [00:00<00:00, 418.41it/s]\n"
     ]
    }
   ],
   "metadata": {}
  },
  {
   "cell_type": "code",
   "execution_count": 4,
   "source": [
    "lats = train_ds[\"lat\"]\n",
    "longs = train_ds[\"lon\"]\n",
    "labels = train_ds[\"labels\"]"
   ],
   "outputs": [],
   "metadata": {}
  },
  {
   "cell_type": "code",
   "execution_count": 5,
   "source": [
    "spatial_df = pd.DataFrame({'lat':lats, 'lon':longs, 'label':labels})\n",
    "amount_of_labels = spatial_df['label'].apply(lambda x: len(x))\n",
    "spatial_df = spatial_df.explode('label')\n",
    "spatial_df.head()"
   ],
   "outputs": [
    {
     "output_type": "execute_result",
     "data": {
      "text/html": [
       "<div>\n",
       "<style scoped>\n",
       "    .dataframe tbody tr th:only-of-type {\n",
       "        vertical-align: middle;\n",
       "    }\n",
       "\n",
       "    .dataframe tbody tr th {\n",
       "        vertical-align: top;\n",
       "    }\n",
       "\n",
       "    .dataframe thead th {\n",
       "        text-align: right;\n",
       "    }\n",
       "</style>\n",
       "<table border=\"1\" class=\"dataframe\">\n",
       "  <thead>\n",
       "    <tr style=\"text-align: right;\">\n",
       "      <th></th>\n",
       "      <th>lat</th>\n",
       "      <th>lon</th>\n",
       "      <th>label</th>\n",
       "    </tr>\n",
       "  </thead>\n",
       "  <tbody>\n",
       "    <tr>\n",
       "      <th>0</th>\n",
       "      <td>6.250013</td>\n",
       "      <td>-75.595688</td>\n",
       "      <td>17</td>\n",
       "    </tr>\n",
       "    <tr>\n",
       "      <th>1</th>\n",
       "      <td>4.597080</td>\n",
       "      <td>-74.079765</td>\n",
       "      <td>9</td>\n",
       "    </tr>\n",
       "    <tr>\n",
       "      <th>1</th>\n",
       "      <td>4.597080</td>\n",
       "      <td>-74.079765</td>\n",
       "      <td>0</td>\n",
       "    </tr>\n",
       "    <tr>\n",
       "      <th>2</th>\n",
       "      <td>7.116924</td>\n",
       "      <td>-73.128120</td>\n",
       "      <td>5</td>\n",
       "    </tr>\n",
       "    <tr>\n",
       "      <th>3</th>\n",
       "      <td>7.129667</td>\n",
       "      <td>-73.112076</td>\n",
       "      <td>5</td>\n",
       "    </tr>\n",
       "  </tbody>\n",
       "</table>\n",
       "</div>"
      ],
      "text/plain": [
       "        lat        lon label\n",
       "0  6.250013 -75.595688    17\n",
       "1  4.597080 -74.079765     9\n",
       "1  4.597080 -74.079765     0\n",
       "2  7.116924 -73.128120     5\n",
       "3  7.129667 -73.112076     5"
      ]
     },
     "metadata": {},
     "execution_count": 5
    }
   ],
   "metadata": {}
  },
  {
   "cell_type": "code",
   "execution_count": 6,
   "source": [
    "spatial_df.explode('label').head(10)"
   ],
   "outputs": [
    {
     "output_type": "execute_result",
     "data": {
      "text/html": [
       "<div>\n",
       "<style scoped>\n",
       "    .dataframe tbody tr th:only-of-type {\n",
       "        vertical-align: middle;\n",
       "    }\n",
       "\n",
       "    .dataframe tbody tr th {\n",
       "        vertical-align: top;\n",
       "    }\n",
       "\n",
       "    .dataframe thead th {\n",
       "        text-align: right;\n",
       "    }\n",
       "</style>\n",
       "<table border=\"1\" class=\"dataframe\">\n",
       "  <thead>\n",
       "    <tr style=\"text-align: right;\">\n",
       "      <th></th>\n",
       "      <th>lat</th>\n",
       "      <th>lon</th>\n",
       "      <th>label</th>\n",
       "    </tr>\n",
       "  </thead>\n",
       "  <tbody>\n",
       "    <tr>\n",
       "      <th>0</th>\n",
       "      <td>6.250013</td>\n",
       "      <td>-75.595688</td>\n",
       "      <td>17</td>\n",
       "    </tr>\n",
       "    <tr>\n",
       "      <th>1</th>\n",
       "      <td>4.597080</td>\n",
       "      <td>-74.079765</td>\n",
       "      <td>9</td>\n",
       "    </tr>\n",
       "    <tr>\n",
       "      <th>1</th>\n",
       "      <td>4.597080</td>\n",
       "      <td>-74.079765</td>\n",
       "      <td>0</td>\n",
       "    </tr>\n",
       "    <tr>\n",
       "      <th>2</th>\n",
       "      <td>7.116924</td>\n",
       "      <td>-73.128120</td>\n",
       "      <td>5</td>\n",
       "    </tr>\n",
       "    <tr>\n",
       "      <th>3</th>\n",
       "      <td>7.129667</td>\n",
       "      <td>-73.112076</td>\n",
       "      <td>5</td>\n",
       "    </tr>\n",
       "    <tr>\n",
       "      <th>4</th>\n",
       "      <td>4.598717</td>\n",
       "      <td>-74.078781</td>\n",
       "      <td>13</td>\n",
       "    </tr>\n",
       "    <tr>\n",
       "      <th>5</th>\n",
       "      <td>6.255044</td>\n",
       "      <td>-75.562042</td>\n",
       "      <td>5</td>\n",
       "    </tr>\n",
       "    <tr>\n",
       "      <th>6</th>\n",
       "      <td>4.681217</td>\n",
       "      <td>-74.049644</td>\n",
       "      <td>7</td>\n",
       "    </tr>\n",
       "    <tr>\n",
       "      <th>7</th>\n",
       "      <td>6.249551</td>\n",
       "      <td>-75.591042</td>\n",
       "      <td>16</td>\n",
       "    </tr>\n",
       "    <tr>\n",
       "      <th>8</th>\n",
       "      <td>6.260261</td>\n",
       "      <td>-75.564415</td>\n",
       "      <td>14</td>\n",
       "    </tr>\n",
       "  </tbody>\n",
       "</table>\n",
       "</div>"
      ],
      "text/plain": [
       "        lat        lon label\n",
       "0  6.250013 -75.595688    17\n",
       "1  4.597080 -74.079765     9\n",
       "1  4.597080 -74.079765     0\n",
       "2  7.116924 -73.128120     5\n",
       "3  7.129667 -73.112076     5\n",
       "4  4.598717 -74.078781    13\n",
       "5  6.255044 -75.562042     5\n",
       "6  4.681217 -74.049644     7\n",
       "7  6.249551 -75.591042    16\n",
       "8  6.260261 -75.564415    14"
      ]
     },
     "metadata": {},
     "execution_count": 6
    }
   ],
   "metadata": {}
  },
  {
   "cell_type": "code",
   "execution_count": 7,
   "source": [
    "amount_of_labels.value_counts()"
   ],
   "outputs": [
    {
     "output_type": "execute_result",
     "data": {
      "text/plain": [
       "1    1906\n",
       "2      88\n",
       "3       5\n",
       "4       1\n",
       "Name: label, dtype: int64"
      ]
     },
     "metadata": {},
     "execution_count": 7
    }
   ],
   "metadata": {}
  },
  {
   "cell_type": "markdown",
   "source": [
    "Casi todas las imágenes traen una sola etiqueta, 4.4% tienen dos, y <1% tienen 3 o más"
   ],
   "metadata": {}
  },
  {
   "cell_type": "code",
   "execution_count": 8,
   "source": [
    "label_dict = dict(enumerate(train_ds.features[\"labels\"].feature.names))\n",
    "spatial_df['label_str']=spatial_df['label'].apply(lambda x: label_dict[x])\n",
    "spatial_df['label_str'].value_counts()"
   ],
   "outputs": [
    {
     "output_type": "execute_result",
     "data": {
      "text/plain": [
       "café/restaurante               476\n",
       "tienda                         210\n",
       "parqueadero                    206\n",
       "talleres carros/motos          191\n",
       "puesto móvil/toldito           150\n",
       "ropa                           142\n",
       "electrónica/cómputo             92\n",
       "farmacia                        86\n",
       "ferretería                      79\n",
       "belleza/barbería/peluquería     78\n",
       "electrodomésticos               60\n",
       "supermercado                    59\n",
       "hotel                           56\n",
       "muebles/tapicería               54\n",
       "bar                             46\n",
       "carnicería/fruver               35\n",
       "zapatería                       28\n",
       "animales                        19\n",
       "licorera                        19\n",
       "deporte                         15\n",
       "Name: label_str, dtype: int64"
      ]
     },
     "metadata": {},
     "execution_count": 8
    }
   ],
   "metadata": {}
  },
  {
   "cell_type": "markdown",
   "source": [
    "Lo que más está presente son licoreras, que representan un ~24% del total de las etiquetas. Le siguen farmacias y carnicerías/fruvers, ambas con ~10%, y cafés/restaurantes, con 9.5%. Las etiquetas que menos hay son hoteles (0.75%), talleres y zapaterías (1%) y bares (1.5%). De la cantidad tan baja de bares y alta de licoreras, sospecho que hay un sobrelapamiento en ambas, que tiende a caer en licoreras"
   ],
   "metadata": {}
  },
  {
   "cell_type": "code",
   "execution_count": 9,
   "source": [
    "spatial_df.plot.scatter(x='lon', y='lat', c='label', colormap='viridis')"
   ],
   "outputs": [
    {
     "output_type": "execute_result",
     "data": {
      "text/plain": [
       "<AxesSubplot:xlabel='lon', ylabel='lat'>"
      ]
     },
     "metadata": {},
     "execution_count": 9
    },
    {
     "output_type": "display_data",
     "data": {
      "image/png": "[encoded data removed]",
      "text/plain": [
       "<Figure size 432x288 with 2 Axes>"
      ]
     },
     "metadata": {
      "needs_background": "light"
     }
    }
   ],
   "metadata": {}
  },
  {
   "cell_type": "markdown",
   "source": [
    "Hay tres grupos dentro de las coordenadas, o sea que al final tenemos tres ciudades"
   ],
   "metadata": {}
  },
  {
   "cell_type": "code",
   "execution_count": 10,
   "source": [
    "def city(row):\n",
    "    if row['lat'] < 6:\n",
    "        return 'Ciudad 1'\n",
    "    elif row['lat'] < 6.5:\n",
    "        return 'Ciudad 2'\n",
    "    else:\n",
    "        return 'Ciudad 3'\n",
    "spatial_df['ciudad'] = spatial_df.apply(city, axis = 1)"
   ],
   "outputs": [],
   "metadata": {}
  },
  {
   "cell_type": "code",
   "execution_count": 11,
   "source": [
    "spatial_df['ciudad'].value_counts()"
   ],
   "outputs": [
    {
     "output_type": "execute_result",
     "data": {
      "text/plain": [
       "Ciudad 2    989\n",
       "Ciudad 1    799\n",
       "Ciudad 3    313\n",
       "Name: ciudad, dtype: int64"
      ]
     },
     "metadata": {},
     "execution_count": 11
    }
   ],
   "metadata": {}
  },
  {
   "cell_type": "code",
   "execution_count": 12,
   "source": [
    "spatial_df[spatial_df['ciudad'] == 'Ciudad 1']['label_str'].value_counts()"
   ],
   "outputs": [
    {
     "output_type": "execute_result",
     "data": {
      "text/plain": [
       "café/restaurante               184\n",
       "tienda                          95\n",
       "parqueadero                     83\n",
       "ropa                            68\n",
       "electrónica/cómputo             61\n",
       "electrodomésticos               50\n",
       "puesto móvil/toldito            39\n",
       "supermercado                    37\n",
       "belleza/barbería/peluquería     36\n",
       "farmacia                        34\n",
       "bar                             21\n",
       "hotel                           15\n",
       "zapatería                       14\n",
       "ferretería                      13\n",
       "licorera                        11\n",
       "carnicería/fruver               11\n",
       "muebles/tapicería               10\n",
       "deporte                          9\n",
       "animales                         5\n",
       "talleres carros/motos            3\n",
       "Name: label_str, dtype: int64"
      ]
     },
     "metadata": {},
     "execution_count": 12
    }
   ],
   "metadata": {}
  },
  {
   "cell_type": "code",
   "execution_count": 13,
   "source": [
    "spatial_df[spatial_df['ciudad'] == 'Ciudad 2']['label_str'].value_counts()"
   ],
   "outputs": [
    {
     "output_type": "execute_result",
     "data": {
      "text/plain": [
       "café/restaurante               226\n",
       "talleres carros/motos          171\n",
       "tienda                          93\n",
       "puesto móvil/toldito            87\n",
       "parqueadero                     83\n",
       "ferretería                      58\n",
       "ropa                            41\n",
       "hotel                           35\n",
       "farmacia                        34\n",
       "belleza/barbería/peluquería     27\n",
       "muebles/tapicería               26\n",
       "electrónica/cómputo             21\n",
       "carnicería/fruver               21\n",
       "supermercado                    19\n",
       "bar                             13\n",
       "zapatería                       10\n",
       "animales                         9\n",
       "electrodomésticos                6\n",
       "licorera                         5\n",
       "deporte                          4\n",
       "Name: label_str, dtype: int64"
      ]
     },
     "metadata": {},
     "execution_count": 13
    }
   ],
   "metadata": {}
  },
  {
   "cell_type": "code",
   "execution_count": 14,
   "source": [
    "spatial_df[spatial_df['ciudad'] == 'Ciudad 1']['label_str'].value_counts()"
   ],
   "outputs": [
    {
     "output_type": "execute_result",
     "data": {
      "text/plain": [
       "café/restaurante               184\n",
       "tienda                          95\n",
       "parqueadero                     83\n",
       "ropa                            68\n",
       "electrónica/cómputo             61\n",
       "electrodomésticos               50\n",
       "puesto móvil/toldito            39\n",
       "supermercado                    37\n",
       "belleza/barbería/peluquería     36\n",
       "farmacia                        34\n",
       "bar                             21\n",
       "hotel                           15\n",
       "zapatería                       14\n",
       "ferretería                      13\n",
       "licorera                        11\n",
       "carnicería/fruver               11\n",
       "muebles/tapicería               10\n",
       "deporte                          9\n",
       "animales                         5\n",
       "talleres carros/motos            3\n",
       "Name: label_str, dtype: int64"
      ]
     },
     "metadata": {},
     "execution_count": 14
    }
   ],
   "metadata": {}
  }
 ],
 "metadata": {
  "interpreter": {
   "hash": "d5618f6a733acbc5f3cac4f970a05ee46b7978ab252a6c9c00de6d7a3f72dc68"
  },
  "kernelspec": {
   "name": "python3",
   "display_name": "Python 3.9.5 64-bit ('.venv': venv)"
  },
  "language_info": {
   "codemirror_mode": {
    "name": "ipython",
    "version": 3
   },
   "file_extension": ".py",
   "mimetype": "text/x-python",
   "name": "python",
   "nbconvert_exporter": "python",
   "pygments_lexer": "ipython3",
   "version": "3.9.5"
  },
  "orig_nbformat": 4
 },
 "nbformat": 4,
 "nbformat_minor": 2
}