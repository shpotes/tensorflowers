{
 "cells": [
  {
   "cell_type": "code",
   "execution_count": 1,
   "metadata": {},
   "outputs": [
    {
     "name": "stdout",
     "output_type": "stream",
     "text": [
      "d:\\tensorflowers\n"
     ]
    }
   ],
   "source": [
    "%cd .."
   ]
  },
  {
   "cell_type": "code",
   "execution_count": 2,
   "metadata": {},
   "outputs": [],
   "source": [
    "from datasets import load_dataset\n",
    "import matplotlib.pyplot as plt\n",
    "import pandas as pd"
   ]
  },
  {
   "cell_type": "code",
   "execution_count": 3,
   "metadata": {},
   "outputs": [
    {
     "name": "stderr",
     "output_type": "stream",
     "text": [
      "Using custom data configuration default\n",
      "Reusing dataset tf_col (C:\\Users\\Juanj\\.cache\\huggingface\\datasets\\tf_col\\default\\1.0.0\\0c616218d5e0a194334e0ed0adacd86ab9b315ec6b03a8b388dece024753def2)\n",
      "100%|██████████| 2/2 [00:00<00:00, 16.26it/s]\n"
     ]
    }
   ],
   "source": [
    "dataset = load_dataset(\"shpotes/tfcol\")\n",
    "train_ds = dataset[\"train\"]"
   ]
  },
  {
   "cell_type": "code",
   "execution_count": 4,
   "metadata": {},
   "outputs": [],
   "source": [
    "lats = train_ds[\"lat\"]\n",
    "longs = train_ds[\"lon\"]\n",
    "labels = train_ds[\"labels\"]"
   ]
  },
  {
   "cell_type": "code",
   "execution_count": 5,
   "metadata": {},
   "outputs": [
    {
     "data": {
      "text/html": [
       "<div>\n",
       "<style scoped>\n",
       "    .dataframe tbody tr th:only-of-type {\n",
       "        vertical-align: middle;\n",
       "    }\n",
       "\n",
       "    .dataframe tbody tr th {\n",
       "        vertical-align: top;\n",
       "    }\n",
       "\n",
       "    .dataframe thead th {\n",
       "        text-align: right;\n",
       "    }\n",
       "</style>\n",
       "<table border=\"1\" class=\"dataframe\">\n",
       "  <thead>\n",
       "    <tr style=\"text-align: right;\">\n",
       "      <th></th>\n",
       "      <th>lat</th>\n",
       "      <th>lon</th>\n",
       "      <th>label</th>\n",
       "    </tr>\n",
       "  </thead>\n",
       "  <tbody>\n",
       "    <tr>\n",
       "      <th>0</th>\n",
       "      <td>6.250013</td>\n",
       "      <td>-75.595688</td>\n",
       "      <td>17</td>\n",
       "    </tr>\n",
       "    <tr>\n",
       "      <th>1</th>\n",
       "      <td>4.597080</td>\n",
       "      <td>-74.079765</td>\n",
       "      <td>9</td>\n",
       "    </tr>\n",
       "    <tr>\n",
       "      <th>1</th>\n",
       "      <td>4.597080</td>\n",
       "      <td>-74.079765</td>\n",
       "      <td>0</td>\n",
       "    </tr>\n",
       "    <tr>\n",
       "      <th>2</th>\n",
       "      <td>7.116924</td>\n",
       "      <td>-73.128120</td>\n",
       "      <td>5</td>\n",
       "    </tr>\n",
       "    <tr>\n",
       "      <th>3</th>\n",
       "      <td>7.129667</td>\n",
       "      <td>-73.112076</td>\n",
       "      <td>5</td>\n",
       "    </tr>\n",
       "  </tbody>\n",
       "</table>\n",
       "</div>"
      ],
      "text/plain": [
       "        lat        lon label\n",
       "0  6.250013 -75.595688    17\n",
       "1  4.597080 -74.079765     9\n",
       "1  4.597080 -74.079765     0\n",
       "2  7.116924 -73.128120     5\n",
       "3  7.129667 -73.112076     5"
      ]
     },
     "execution_count": 5,
     "metadata": {},
     "output_type": "execute_result"
    }
   ],
   "source": [
    "original_df = pd.DataFrame({'lat':lats, 'lon':longs, 'label':labels})\n",
    "spatial_df = original_df.explode('label')\n",
    "original_df['len_lab'] = original_df['label'].apply(lambda x: len(x))\n",
    "spatial_df.head()"
   ]
  },
  {
   "cell_type": "code",
   "execution_count": 6,
   "metadata": {},
   "outputs": [
    {
     "data": {
      "text/html": [
       "<div>\n",
       "<style scoped>\n",
       "    .dataframe tbody tr th:only-of-type {\n",
       "        vertical-align: middle;\n",
       "    }\n",
       "\n",
       "    .dataframe tbody tr th {\n",
       "        vertical-align: top;\n",
       "    }\n",
       "\n",
       "    .dataframe thead th {\n",
       "        text-align: right;\n",
       "    }\n",
       "</style>\n",
       "<table border=\"1\" class=\"dataframe\">\n",
       "  <thead>\n",
       "    <tr style=\"text-align: right;\">\n",
       "      <th></th>\n",
       "      <th>lat</th>\n",
       "      <th>lon</th>\n",
       "      <th>label</th>\n",
       "    </tr>\n",
       "  </thead>\n",
       "  <tbody>\n",
       "    <tr>\n",
       "      <th>0</th>\n",
       "      <td>6.250013</td>\n",
       "      <td>-75.595688</td>\n",
       "      <td>17</td>\n",
       "    </tr>\n",
       "    <tr>\n",
       "      <th>1</th>\n",
       "      <td>4.597080</td>\n",
       "      <td>-74.079765</td>\n",
       "      <td>9</td>\n",
       "    </tr>\n",
       "    <tr>\n",
       "      <th>1</th>\n",
       "      <td>4.597080</td>\n",
       "      <td>-74.079765</td>\n",
       "      <td>0</td>\n",
       "    </tr>\n",
       "    <tr>\n",
       "      <th>2</th>\n",
       "      <td>7.116924</td>\n",
       "      <td>-73.128120</td>\n",
       "      <td>5</td>\n",
       "    </tr>\n",
       "    <tr>\n",
       "      <th>3</th>\n",
       "      <td>7.129667</td>\n",
       "      <td>-73.112076</td>\n",
       "      <td>5</td>\n",
       "    </tr>\n",
       "    <tr>\n",
       "      <th>4</th>\n",
       "      <td>4.598717</td>\n",
       "      <td>-74.078781</td>\n",
       "      <td>13</td>\n",
       "    </tr>\n",
       "    <tr>\n",
       "      <th>5</th>\n",
       "      <td>6.255044</td>\n",
       "      <td>-75.562042</td>\n",
       "      <td>5</td>\n",
       "    </tr>\n",
       "    <tr>\n",
       "      <th>6</th>\n",
       "      <td>4.681217</td>\n",
       "      <td>-74.049644</td>\n",
       "      <td>7</td>\n",
       "    </tr>\n",
       "    <tr>\n",
       "      <th>7</th>\n",
       "      <td>6.249551</td>\n",
       "      <td>-75.591042</td>\n",
       "      <td>16</td>\n",
       "    </tr>\n",
       "    <tr>\n",
       "      <th>8</th>\n",
       "      <td>6.260261</td>\n",
       "      <td>-75.564415</td>\n",
       "      <td>14</td>\n",
       "    </tr>\n",
       "  </tbody>\n",
       "</table>\n",
       "</div>"
      ],
      "text/plain": [
       "        lat        lon label\n",
       "0  6.250013 -75.595688    17\n",
       "1  4.597080 -74.079765     9\n",
       "1  4.597080 -74.079765     0\n",
       "2  7.116924 -73.128120     5\n",
       "3  7.129667 -73.112076     5\n",
       "4  4.598717 -74.078781    13\n",
       "5  6.255044 -75.562042     5\n",
       "6  4.681217 -74.049644     7\n",
       "7  6.249551 -75.591042    16\n",
       "8  6.260261 -75.564415    14"
      ]
     },
     "execution_count": 6,
     "metadata": {},
     "output_type": "execute_result"
    }
   ],
   "source": [
    "spatial_df.explode('label').head(10)"
   ]
  },
  {
   "cell_type": "code",
   "execution_count": 7,
   "metadata": {},
   "outputs": [
    {
     "data": {
      "text/plain": [
       "1    1906\n",
       "2      88\n",
       "3       5\n",
       "4       1\n",
       "Name: len_lab, dtype: int64"
      ]
     },
     "execution_count": 7,
     "metadata": {},
     "output_type": "execute_result"
    }
   ],
   "source": [
    "original_df['len_lab'].value_counts()"
   ]
  },
  {
   "cell_type": "markdown",
   "metadata": {},
   "source": [
    "Casi todas las imágenes traen una sola etiqueta, 4.4% tienen dos, y <1% tienen 3 o más"
   ]
  },
  {
   "cell_type": "code",
   "execution_count": 8,
   "metadata": {},
   "outputs": [
    {
     "data": {
      "text/plain": [
       "café/restaurante               476\n",
       "tienda                         210\n",
       "parqueadero                    206\n",
       "talleres carros/motos          191\n",
       "puesto móvil/toldito           150\n",
       "ropa                           142\n",
       "electrónica/cómputo             92\n",
       "farmacia                        86\n",
       "ferretería                      79\n",
       "belleza/barbería/peluquería     78\n",
       "electrodomésticos               60\n",
       "supermercado                    59\n",
       "hotel                           56\n",
       "muebles/tapicería               54\n",
       "bar                             46\n",
       "carnicería/fruver               35\n",
       "zapatería                       28\n",
       "animales                        19\n",
       "licorera                        19\n",
       "deporte                         15\n",
       "Name: label_str, dtype: int64"
      ]
     },
     "execution_count": 8,
     "metadata": {},
     "output_type": "execute_result"
    }
   ],
   "source": [
    "label_dict = dict(enumerate(train_ds.features[\"labels\"].feature.names))\n",
    "spatial_df['label_str']=spatial_df['label'].apply(lambda x: label_dict[x])\n",
    "spatial_df['label_str'].value_counts()"
   ]
  },
  {
   "cell_type": "markdown",
   "metadata": {},
   "source": [
    "Lo que más está presente son licoreras, que representan un ~24% del total de las etiquetas. Le siguen farmacias y carnicerías/fruvers, ambas con ~10%, y cafés/restaurantes, con 9.5%. Las etiquetas que menos hay son hoteles (0.75%), talleres y zapaterías (1%) y bares (1.5%). De la cantidad tan baja de bares y alta de licoreras, sospecho que hay un sobrelapamiento en ambas, que tiende a caer en licoreras"
   ]
  },
  {
   "cell_type": "code",
   "execution_count": 9,
   "metadata": {},
   "outputs": [
    {
     "data": {
      "text/plain": [
       "<AxesSubplot:xlabel='lon', ylabel='lat'>"
      ]
     },
     "execution_count": 9,
     "metadata": {},
     "output_type": "execute_result"
    },
    {
     "data": {
      "image/png": "[encoded data removed]",
      "text/plain": [
       "<Figure size 432x288 with 2 Axes>"
      ]
     },
     "metadata": {
      "needs_background": "light"
     },
     "output_type": "display_data"
    }
   ],
   "source": [
    "spatial_df.plot.scatter(x='lon', y='lat', c='label', colormap='viridis')"
   ]
  },
  {
   "cell_type": "markdown",
   "metadata": {},
   "source": [
    "Hay tres grupos dentro de las coordenadas, o sea que al final tenemos tres ciudades"
   ]
  },
  {
   "cell_type": "code",
   "execution_count": 10,
   "metadata": {},
   "outputs": [],
   "source": [
    "def city(row):\n",
    "    if row['lat'] < 6:\n",
    "        return 'Bogotá'\n",
    "    elif row['lat'] < 6.5:\n",
    "        return 'Medellín'\n",
    "    else:\n",
    "        return 'Bucaramanga'\n",
    "spatial_df['ciudad'] = spatial_df.apply(city, axis = 1)"
   ]
  },
  {
   "cell_type": "code",
   "execution_count": 11,
   "metadata": {},
   "outputs": [
    {
     "data": {
      "text/plain": [
       "Medellín       989\n",
       "Bogotá         799\n",
       "Bucaramanga    313\n",
       "Name: ciudad, dtype: int64"
      ]
     },
     "execution_count": 11,
     "metadata": {},
     "output_type": "execute_result"
    }
   ],
   "source": [
    "spatial_df['ciudad'].value_counts()"
   ]
  },
  {
   "cell_type": "code",
   "execution_count": 12,
   "metadata": {},
   "outputs": [
    {
     "data": {
      "text/plain": [
       "café/restaurante               184\n",
       "tienda                          95\n",
       "parqueadero                     83\n",
       "ropa                            68\n",
       "electrónica/cómputo             61\n",
       "electrodomésticos               50\n",
       "puesto móvil/toldito            39\n",
       "supermercado                    37\n",
       "belleza/barbería/peluquería     36\n",
       "farmacia                        34\n",
       "bar                             21\n",
       "hotel                           15\n",
       "zapatería                       14\n",
       "ferretería                      13\n",
       "licorera                        11\n",
       "carnicería/fruver               11\n",
       "muebles/tapicería               10\n",
       "deporte                          9\n",
       "animales                         5\n",
       "talleres carros/motos            3\n",
       "Name: label_str, dtype: int64"
      ]
     },
     "execution_count": 12,
     "metadata": {},
     "output_type": "execute_result"
    }
   ],
   "source": [
    "spatial_df[spatial_df['ciudad'] == 'Bogotá']['label_str'].value_counts()"
   ]
  },
  {
   "cell_type": "code",
   "execution_count": 13,
   "metadata": {},
   "outputs": [
    {
     "data": {
      "text/html": [
       "<div>\n",
       "<style scoped>\n",
       "    .dataframe tbody tr th:only-of-type {\n",
       "        vertical-align: middle;\n",
       "    }\n",
       "\n",
       "    .dataframe tbody tr th {\n",
       "        vertical-align: top;\n",
       "    }\n",
       "\n",
       "    .dataframe thead th {\n",
       "        text-align: right;\n",
       "    }\n",
       "</style>\n",
       "<table border=\"1\" class=\"dataframe\">\n",
       "  <thead>\n",
       "    <tr style=\"text-align: right;\">\n",
       "      <th></th>\n",
       "      <th>lat</th>\n",
       "      <th>lon</th>\n",
       "      <th>label</th>\n",
       "      <th>label_str</th>\n",
       "      <th>ciudad</th>\n",
       "    </tr>\n",
       "  </thead>\n",
       "  <tbody>\n",
       "    <tr>\n",
       "      <th>1</th>\n",
       "      <td>4.59708</td>\n",
       "      <td>-74.079765</td>\n",
       "      <td>9</td>\n",
       "      <td>electrodomésticos</td>\n",
       "      <td>Bogotá</td>\n",
       "    </tr>\n",
       "  </tbody>\n",
       "</table>\n",
       "</div>"
      ],
      "text/plain": [
       "       lat        lon label          label_str  ciudad\n",
       "1  4.59708 -74.079765     9  electrodomésticos  Bogotá"
      ]
     },
     "execution_count": 13,
     "metadata": {},
     "output_type": "execute_result"
    }
   ],
   "source": [
    "spatial_df[spatial_df['ciudad'] == 'Bogotá'].head(1)"
   ]
  },
  {
   "cell_type": "code",
   "execution_count": 14,
   "metadata": {},
   "outputs": [
    {
     "data": {
      "text/plain": [
       "café/restaurante               226\n",
       "talleres carros/motos          171\n",
       "tienda                          93\n",
       "puesto móvil/toldito            87\n",
       "parqueadero                     83\n",
       "ferretería                      58\n",
       "ropa                            41\n",
       "hotel                           35\n",
       "farmacia                        34\n",
       "belleza/barbería/peluquería     27\n",
       "muebles/tapicería               26\n",
       "carnicería/fruver               21\n",
       "electrónica/cómputo             21\n",
       "supermercado                    19\n",
       "bar                             13\n",
       "zapatería                       10\n",
       "animales                         9\n",
       "electrodomésticos                6\n",
       "licorera                         5\n",
       "deporte                          4\n",
       "Name: label_str, dtype: int64"
      ]
     },
     "execution_count": 14,
     "metadata": {},
     "output_type": "execute_result"
    }
   ],
   "source": [
    "spatial_df[spatial_df['ciudad'] == 'Medellín']['label_str'].value_counts()"
   ]
  },
  {
   "cell_type": "code",
   "execution_count": 15,
   "metadata": {},
   "outputs": [
    {
     "data": {
      "text/html": [
       "<div>\n",
       "<style scoped>\n",
       "    .dataframe tbody tr th:only-of-type {\n",
       "        vertical-align: middle;\n",
       "    }\n",
       "\n",
       "    .dataframe tbody tr th {\n",
       "        vertical-align: top;\n",
       "    }\n",
       "\n",
       "    .dataframe thead th {\n",
       "        text-align: right;\n",
       "    }\n",
       "</style>\n",
       "<table border=\"1\" class=\"dataframe\">\n",
       "  <thead>\n",
       "    <tr style=\"text-align: right;\">\n",
       "      <th></th>\n",
       "      <th>lat</th>\n",
       "      <th>lon</th>\n",
       "      <th>label</th>\n",
       "      <th>label_str</th>\n",
       "      <th>ciudad</th>\n",
       "    </tr>\n",
       "  </thead>\n",
       "  <tbody>\n",
       "    <tr>\n",
       "      <th>0</th>\n",
       "      <td>6.250013</td>\n",
       "      <td>-75.595688</td>\n",
       "      <td>17</td>\n",
       "      <td>zapatería</td>\n",
       "      <td>Medellín</td>\n",
       "    </tr>\n",
       "  </tbody>\n",
       "</table>\n",
       "</div>"
      ],
      "text/plain": [
       "        lat        lon label  label_str    ciudad\n",
       "0  6.250013 -75.595688    17  zapatería  Medellín"
      ]
     },
     "execution_count": 15,
     "metadata": {},
     "output_type": "execute_result"
    }
   ],
   "source": [
    "spatial_df[spatial_df['ciudad'] == 'Medellín'].head(1)"
   ]
  },
  {
   "cell_type": "code",
   "execution_count": 16,
   "metadata": {},
   "outputs": [
    {
     "data": {
      "text/plain": [
       "café/restaurante               66\n",
       "parqueadero                    40\n",
       "ropa                           33\n",
       "puesto móvil/toldito           24\n",
       "tienda                         22\n",
       "farmacia                       18\n",
       "muebles/tapicería              18\n",
       "talleres carros/motos          17\n",
       "belleza/barbería/peluquería    15\n",
       "bar                            12\n",
       "electrónica/cómputo            10\n",
       "ferretería                      8\n",
       "hotel                           6\n",
       "animales                        5\n",
       "zapatería                       4\n",
       "electrodomésticos               4\n",
       "carnicería/fruver               3\n",
       "supermercado                    3\n",
       "licorera                        3\n",
       "deporte                         2\n",
       "Name: label_str, dtype: int64"
      ]
     },
     "execution_count": 16,
     "metadata": {},
     "output_type": "execute_result"
    }
   ],
   "source": [
    "spatial_df[spatial_df['ciudad'] == 'Bucaramanga']['label_str'].value_counts()"
   ]
  },
  {
   "cell_type": "code",
   "execution_count": 17,
   "metadata": {},
   "outputs": [
    {
     "data": {
      "text/html": [
       "<div>\n",
       "<style scoped>\n",
       "    .dataframe tbody tr th:only-of-type {\n",
       "        vertical-align: middle;\n",
       "    }\n",
       "\n",
       "    .dataframe tbody tr th {\n",
       "        vertical-align: top;\n",
       "    }\n",
       "\n",
       "    .dataframe thead th {\n",
       "        text-align: right;\n",
       "    }\n",
       "</style>\n",
       "<table border=\"1\" class=\"dataframe\">\n",
       "  <thead>\n",
       "    <tr style=\"text-align: right;\">\n",
       "      <th></th>\n",
       "      <th>lat</th>\n",
       "      <th>lon</th>\n",
       "      <th>label</th>\n",
       "      <th>label_str</th>\n",
       "      <th>ciudad</th>\n",
       "    </tr>\n",
       "  </thead>\n",
       "  <tbody>\n",
       "    <tr>\n",
       "      <th>2</th>\n",
       "      <td>7.116924</td>\n",
       "      <td>-73.12812</td>\n",
       "      <td>5</td>\n",
       "      <td>café/restaurante</td>\n",
       "      <td>Bucaramanga</td>\n",
       "    </tr>\n",
       "  </tbody>\n",
       "</table>\n",
       "</div>"
      ],
      "text/plain": [
       "        lat       lon label         label_str       ciudad\n",
       "2  7.116924 -73.12812     5  café/restaurante  Bucaramanga"
      ]
     },
     "execution_count": 17,
     "metadata": {},
     "output_type": "execute_result"
    }
   ],
   "source": [
    "spatial_df[spatial_df['ciudad'] == 'Bucaramanga'].head(1)"
   ]
  },
  {
   "cell_type": "code",
   "execution_count": 18,
   "metadata": {},
   "outputs": [
    {
     "data": {
      "text/plain": [
       "<AxesSubplot:xlabel='lon', ylabel='lat'>"
      ]
     },
     "execution_count": 18,
     "metadata": {},
     "output_type": "execute_result"
    },
    {
     "data": {
      "image/png": "[encoded data removed]",
      "text/plain": [
       "<Figure size 432x288 with 2 Axes>"
      ]
     },
     "metadata": {
      "needs_background": "light"
     },
     "output_type": "display_data"
    }
   ],
   "source": [
    "original_df[original_df['len_lab'] > 2].plot.scatter(x='lon', y='lat', c='len_lab', colormap='viridis')"
   ]
  },
  {
   "cell_type": "code",
   "execution_count": 20,
   "metadata": {},
   "outputs": [
    {
     "data": {
      "text/plain": [
       "<AxesSubplot:xlabel='lon', ylabel='lat'>"
      ]
     },
     "execution_count": 20,
     "metadata": {},
     "output_type": "execute_result"
    },
    {
     "data": {
      "image/png": "[encoded data removed]",
      "text/plain": [
       "<Figure size 432x288 with 2 Axes>"
      ]
     },
     "metadata": {
      "needs_background": "light"
     },
     "output_type": "display_data"
    }
   ],
   "source": [
    "spatial_df[spatial_df['ciudad'] == 'Bucaramanga'].plot.scatter(x='lon', y='lat', c='label', colormap='viridis')"
   ]
  },
  {
   "cell_type": "code",
   "execution_count": 21,
   "metadata": {},
   "outputs": [
    {
     "data": {
      "text/plain": [
       "<AxesSubplot:xlabel='lon', ylabel='lat'>"
      ]
     },
     "execution_count": 21,
     "metadata": {},
     "output_type": "execute_result"
    },
    {
     "data": {
      "image/png": "[encoded data removed]",
      "text/plain": [
       "<Figure size 432x288 with 2 Axes>"
      ]
     },
     "metadata": {
      "needs_background": "light"
     },
     "output_type": "display_data"
    }
   ],
   "source": [
    "spatial_df[spatial_df['ciudad'] == 'Bogotá'].plot.scatter(x='lon', y='lat', c='label', colormap='viridis')"
   ]
  },
  {
   "cell_type": "code",
   "execution_count": 22,
   "metadata": {},
   "outputs": [
    {
     "data": {
      "text/plain": [
       "<AxesSubplot:xlabel='lon', ylabel='lat'>"
      ]
     },
     "execution_count": 22,
     "metadata": {},
     "output_type": "execute_result"
    },
    {
     "data": {
      "image/png": "[encoded data removed]",
      "text/plain": [
       "<Figure size 432x288 with 2 Axes>"
      ]
     },
     "metadata": {
      "needs_background": "light"
     },
     "output_type": "display_data"
    }
   ],
   "source": [
    "spatial_df[spatial_df['ciudad'] == 'Medellín'].plot.scatter(x='lon', y='lat', c='label', colormap='viridis')"
   ]
  }
 ],
 "metadata": {
  "interpreter": {
   "hash": "f414ab7d5497ec978e12c8870e7523b64ff4202432de6d983eb72dfef54c71a4"
  },
  "kernelspec": {
   "display_name": "Python 3.8.5 64-bit ('tensorflower': venv)",
   "name": "python3"
  },
  "language_info": {
   "codemirror_mode": {
    "name": "ipython",
    "version": 3
   },
   "file_extension": ".py",
   "mimetype": "text/x-python",
   "name": "python",
   "nbconvert_exporter": "python",
   "pygments_lexer": "ipython3",
   "version": "3.8.5"
  },
  "orig_nbformat": 4
 },
 "nbformat": 4,
 "nbformat_minor": 2
}
